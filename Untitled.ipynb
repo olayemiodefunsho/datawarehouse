{
 "cells": [
  {
   "cell_type": "code",
   "execution_count": null,
   "metadata": {},
   "outputs": [],
   "source": [
    "import pandas as pd\n",
    "import boto3\n",
    "import json\n",
    "from botocore.exceptions import ClientError"
   ]
  },
  {
   "cell_type": "code",
   "execution_count": null,
   "metadata": {},
   "outputs": [],
   "source": [
    "KEY = ''\n",
    "SECRET = ''"
   ]
  },
  {
   "cell_type": "code",
   "execution_count": null,
   "metadata": {},
   "outputs": [],
   "source": [
    "iam = boto3.client('iam',aws_access_key_id=KEY,\n",
    "                     aws_secret_access_key=SECRET,\n",
    "                     region_name='us-west-2'\n",
    "                  )"
   ]
  },
  {
   "cell_type": "code",
   "execution_count": null,
   "metadata": {},
   "outputs": [],
   "source": [
    "ROLE_NAME = 'project_3_role_name'"
   ]
  },
  {
   "cell_type": "code",
   "execution_count": null,
   "metadata": {},
   "outputs": [],
   "source": [
    "#1.1 Create the role, \n",
    "try:\n",
    "    Project_3_Role = iam.create_role(\n",
    "        Path='/',\n",
    "        RoleName = ROLE_NAME,\n",
    "        Description = \"Allows Redshift clusters to call AWS services on your behalf.\",\n",
    "        AssumeRolePolicyDocument=json.dumps(\n",
    "            {'Statement': [{'Action': 'sts:AssumeRole',\n",
    "               'Effect': 'Allow',\n",
    "               'Principal': {'Service': 'redshift.amazonaws.com'}}],\n",
    "             'Version': '2012-10-17'})\n",
    "    )    \n",
    "except Exception as e:\n",
    "    print(e)\n",
    "    "
   ]
  },
  {
   "cell_type": "code",
   "execution_count": null,
   "metadata": {},
   "outputs": [],
   "source": [
    "POLICY_ARN = 'arn:aws:iam::aws:policy/AmazonS3ReadOnlyAccess'"
   ]
  },
  {
   "cell_type": "code",
   "execution_count": null,
   "metadata": {},
   "outputs": [],
   "source": [
    "iam.attach_role_policy(RoleName=ROLE_NAME,\n",
    "                       PolicyArn=POLICY_ARN\n",
    "                      )['ResponseMetadata']['HTTPStatusCode']"
   ]
  },
  {
   "cell_type": "code",
   "execution_count": null,
   "metadata": {},
   "outputs": [],
   "source": [
    "redshift = boto3.client('redshift',\n",
    "                       region_name=\"us-west-2\",\n",
    "                       aws_access_key_id=KEY,\n",
    "                       aws_secret_access_key=SECRET\n",
    "                       )"
   ]
  },
  {
   "cell_type": "code",
   "execution_count": null,
   "metadata": {},
   "outputs": [],
   "source": [
    "CLUSTER_TYPE='multi-node'\n",
    "NODE_TYPE='dc2.large'\n",
    "NUM_NODES='4'\n",
    "CLUSTER_IDENTIFIER='Project-3-Cluster'\n",
    "DB='project_3_db'\n",
    "DB_USER='project_3_user'\n",
    "DB_PASSWORD='Passw0rd'\n",
    "ROLE_ARN = iam.get_role(RoleName=ROLE_NAME)['Role']['Arn']"
   ]
  },
  {
   "cell_type": "code",
   "execution_count": null,
   "metadata": {},
   "outputs": [],
   "source": [
    "ROLE_ARN"
   ]
  },
  {
   "cell_type": "code",
   "execution_count": null,
   "metadata": {},
   "outputs": [],
   "source": [
    "try:\n",
    "    response = redshift.create_cluster(        \n",
    "        #HW\n",
    "        ClusterType=CLUSTER_TYPE,\n",
    "        NodeType=NODE_TYPE,\n",
    "        NumberOfNodes=int(NUM_NODES),\n",
    "        ClusterIdentifier=CLUSTER_IDENTIFIER,\n",
    "\n",
    "        #Identifiers & Credentials\n",
    "        DBName=DB,\n",
    "        MasterUsername=DB_USER,\n",
    "        MasterUserPassword=DB_PASSWORD,\n",
    "        \n",
    "        #Roles (for s3 access)\n",
    "        IamRoles=[ROLE_ARN]  \n",
    "    )\n",
    "except Exception as e:\n",
    "    print(e)"
   ]
  },
  {
   "cell_type": "code",
   "execution_count": null,
   "metadata": {},
   "outputs": [],
   "source": [
    "def prettyRedshiftProps(props):\n",
    "    pd.set_option('display.max_colwidth', -1)\n",
    "    keysToShow = [\"ClusterIdentifier\", \"NodeType\", \"ClusterStatus\", \"MasterUsername\", \"DBName\", \"Endpoint\", \"NumberOfNodes\", 'VpcId']\n",
    "    x = [(k, v) for k,v in props.items() if k in keysToShow]\n",
    "    return pd.DataFrame(data=x, columns=[\"Key\", \"Value\"])\n",
    "\n",
    "myClusterProps = redshift.describe_clusters(ClusterIdentifier=CLUSTER_IDENTIFIER)['Clusters'][0]\n",
    "prettyRedshiftProps(myClusterProps)"
   ]
  },
  {
   "cell_type": "code",
   "execution_count": null,
   "metadata": {},
   "outputs": [],
   "source": [
    "ENDPOINT = myClusterProps['Endpoint']['Address']\n",
    "PORT=myClusterProps['Endpoint']['Port']"
   ]
  },
  {
   "cell_type": "code",
   "execution_count": null,
   "metadata": {},
   "outputs": [],
   "source": [
    "ENDPOINT"
   ]
  },
  {
   "cell_type": "code",
   "execution_count": null,
   "metadata": {},
   "outputs": [],
   "source": [
    "ec2 = boto3.resource('ec2',\n",
    "                       region_name=\"us-west-2\",\n",
    "                       aws_access_key_id=KEY,\n",
    "                       aws_secret_access_key=SECRET\n",
    "                    )"
   ]
  },
  {
   "cell_type": "code",
   "execution_count": null,
   "metadata": {},
   "outputs": [],
   "source": [
    "try:\n",
    "    vpc = ec2.Vpc(id=myClusterProps['VpcId'])\n",
    "    defaultSg = list(vpc.security_groups.all())[0]\n",
    "    print(defaultSg)\n",
    "    defaultSg.authorize_ingress(\n",
    "        GroupName=defaultSg.group_name,\n",
    "        CidrIp='0.0.0.0/0',\n",
    "        IpProtocol='TCP',\n",
    "        FromPort=int(PORT),\n",
    "        ToPort=int(PORT)\n",
    "    )\n",
    "except Exception as e:\n",
    "    print(e)"
   ]
  },
  {
   "cell_type": "code",
   "execution_count": null,
   "metadata": {},
   "outputs": [],
   "source": [
    "s3 = boto3.resource('s3',\n",
    "                       region_name=\"us-west-2\",\n",
    "                       aws_access_key_id=KEY,\n",
    "                       aws_secret_access_key=SECRET\n",
    "                     )\n",
    "\n",
    "sampleDbBucket =  s3.Bucket(\"udacity-dend\")\n",
    "\n",
    "for obj in sampleDbBucket.objects.filter(Prefix=\"song_data\"):\n",
    "    print(obj)"
   ]
  },
  {
   "cell_type": "code",
   "execution_count": null,
   "metadata": {},
   "outputs": [],
   "source": [
    "s3 = boto3.resource('s3',\n",
    "                       region_name=\"us-west-2\",\n",
    "                       aws_access_key_id=KEY,\n",
    "                       aws_secret_access_key=SECRET\n",
    "                     )\n",
    "\n",
    "sampleDbBucket =  s3.Bucket(\"udacity-dend\")\n",
    "\n",
    "for obj in sampleDbBucket.objects.filter(Prefix=\"log_data\"):\n",
    "    print(obj)\n",
    "    "
   ]
  },
  {
   "cell_type": "code",
   "execution_count": null,
   "metadata": {},
   "outputs": [],
   "source": [
    "s3 = boto3.client('s3',\n",
    "                       region_name=\"us-west-2\",\n",
    "                       aws_access_key_id=KEY,\n",
    "                       aws_secret_access_key=SECRET\n",
    "                     )\n",
    "\n",
    "result = s3.get_object(Bucket=\"udacity-dend\", Key=\"log_data/2018/11/2018-11-13-events.json\") \n",
    "text = result[\"Body\"].read().decode()"
   ]
  },
  {
   "cell_type": "code",
   "execution_count": null,
   "metadata": {},
   "outputs": [],
   "source": [
    "print(text[:900]) # Use your desired JSON Key for your value "
   ]
  },
  {
   "cell_type": "code",
   "execution_count": null,
   "metadata": {},
   "outputs": [],
   "source": [
    "%load_ext sql"
   ]
  },
  {
   "cell_type": "code",
   "execution_count": null,
   "metadata": {},
   "outputs": [],
   "source": [
    "conn_string=\"postgresql://{}:{}@{}:{}/{}\".format(DB_USER, DB_PASSWORD, ENDPOINT, PORT, DB)\n",
    "%sql $conn_string"
   ]
  },
  {
   "cell_type": "code",
   "execution_count": null,
   "metadata": {},
   "outputs": [],
   "source": [
    "%%sql \n",
    "select query, filename,line_number as line, \n",
    "substring(colname,0,12) as column, type, position as pos, raw_line,\n",
    "raw_field_value, \n",
    "err_reason\n",
    "from stl_load_errors \n",
    "order by query desc, filename \n",
    "limit 1;"
   ]
  },
  {
   "cell_type": "code",
   "execution_count": null,
   "metadata": {},
   "outputs": [],
   "source": [
    "%%sql \n",
    "DROP TABLE IF EXISTS song_data;\n",
    "CREATE TABLE song_data (\n",
    "    artist_id VARCHAR(20) NOT NULL,\n",
    "    artist_latitude DOUBLE PRECISION,\n",
    "    artist_location VARCHAR(200),\n",
    "    artist_longitude DOUBLE PRECISION,\n",
    "    artist_name VARCHAR(200) NOT NULL,\n",
    "    duration DOUBLE PRECISION NOT NULL,\n",
    "    num_songs INTEGER NOT NULL,\n",
    "    song_id VARCHAR(20) NOT NULL,\n",
    "    title VARCHAR(200) NOT NULL,\n",
    "    year INTEGER NOT NULL\n",
    ");"
   ]
  },
  {
   "cell_type": "code",
   "execution_count": null,
   "metadata": {},
   "outputs": [],
   "source": [
    "qry = \"\"\"\n",
    "    copy song_data from 's3://udacity-dend/song_data'\n",
    "    credentials 'aws_iam_role={}'\n",
    "    format as json 'auto';\n",
    "\"\"\".format(ROLE_ARN)\n",
    "\n",
    "%sql $qry"
   ]
  },
  {
   "cell_type": "code",
   "execution_count": null,
   "metadata": {},
   "outputs": [],
   "source": [
    "%%sql\n",
    "select count(*) from song_data"
   ]
  },
  {
   "cell_type": "code",
   "execution_count": null,
   "metadata": {},
   "outputs": [],
   "source": [
    "%%sql \n",
    "DROP TABLE IF EXISTS log_data;\n",
    "CREATE TABLE log_data (\n",
    "    artist VARCHAR(200),\n",
    "    auth VARCHAR(200) NOT NULL,\n",
    "    firstname VARCHAR(200),\n",
    "    gender CHAR(1),\n",
    "    iteminsession INTEGER,\n",
    "    lastname VARCHAR(200),\n",
    "    length double precision,\n",
    "    level VARCHAR(20) NOT NULL,\n",
    "    location VARCHAR(200),\n",
    "    method VARCHAR(20) NOT NULL,\n",
    "    page VARCHAR(20) NOT NULL,\n",
    "    registration double precision,\n",
    "    sessionid INTEGER,\n",
    "    song VARCHAR(200),\n",
    "    status INTEGER NOT NULL,\n",
    "    ts BIGINT NOT NULL,\n",
    "    useragent VARCHAR(200),\n",
    "    userid INTEGER\n",
    ");"
   ]
  },
  {
   "cell_type": "code",
   "execution_count": null,
   "metadata": {},
   "outputs": [],
   "source": [
    "qry = \"\"\"\n",
    "    copy log_data from 's3://udacity-dend/log_data'\n",
    "    credentials 'aws_iam_role={}'\n",
    "    json 's3://olayemiodefunsho/jsonpath.json';\n",
    "\"\"\".format(ROLE_ARN)\n",
    "\n",
    "%sql $qry"
   ]
  },
  {
   "cell_type": "code",
   "execution_count": null,
   "metadata": {},
   "outputs": [],
   "source": [
    "%%sql\n",
    "select top 1 * FROM log_data WHERE page = 'NextSong'"
   ]
  },
  {
   "cell_type": "code",
   "execution_count": null,
   "metadata": {},
   "outputs": [],
   "source": [
    "%%sql \n",
    "DROP TABLE IF EXISTS users;\n",
    "CREATE TABLE users \n",
    "(\n",
    "  u_user_id     INTEGER NOT NULL SORTKEY,\n",
    "  u_first_name  VARCHAR(200) NOT NULL,\n",
    "  u_last_name   VARCHAR(200) NOT NULL,\n",
    "  u_gender      CHAR(1) NOT NULL,\n",
    "  u_level       VARCHAR(20) NOT NULL\n",
    ")\n",
    "DISTSTYLE ALL;\n",
    "\n",
    "INSERT INTO users (u_user_id,u_first_name,u_last_name,u_gender,u_level)\n",
    "WITH t1 AS\n",
    "    (SELECT userid,firstname,lastname,gender,level,\n",
    "    ROW_NUMBER() OVER(PARTITION BY userid ORDER BY dateadd(second, ts, '1970-01-01 00:00:00') desc) AS row_number\n",
    "    FROM log_data where userid is not null)\n",
    "SELECT userid,firstname,lastname,gender,level\n",
    "FROM t1\n",
    "WHERE t1.row_number = 1"
   ]
  },
  {
   "cell_type": "code",
   "execution_count": null,
   "metadata": {},
   "outputs": [],
   "source": [
    "%%sql\n",
    "select count(*) from users"
   ]
  },
  {
   "cell_type": "code",
   "execution_count": null,
   "metadata": {},
   "outputs": [],
   "source": [
    "%%sql \n",
    "DROP TABLE IF EXISTS songs;\n",
    "CREATE TABLE songs \n",
    "(\n",
    "  s_song_id     VARCHAR(200) NOT NULL SORTKEY,\n",
    "  s_title       VARCHAR(200) NOT NULL,\n",
    "  s_artist_id   VARCHAR(200) NOT NULL,\n",
    "  s_year        INTEGER NOT NULL,\n",
    "  s_duration    DOUBLE PRECISION NOT NULL\n",
    ")\n",
    "DISTSTYLE ALL;\n",
    "\n",
    "INSERT INTO songs (s_song_id, s_title, s_artist_id, s_year, s_duration)\n",
    "SELECT song_id, title, artist_id, year, duration\n",
    "FROM song_data"
   ]
  },
  {
   "cell_type": "code",
   "execution_count": null,
   "metadata": {},
   "outputs": [],
   "source": [
    "%%sql\n",
    "select count(*) from songs"
   ]
  },
  {
   "cell_type": "code",
   "execution_count": null,
   "metadata": {},
   "outputs": [],
   "source": [
    "%%sql \n",
    "DROP TABLE IF EXISTS artists;\n",
    "CREATE TABLE artists \n",
    "(\n",
    "  a_artist_id  VARCHAR(200) NOT NULL SORTKEY,\n",
    "  a_name       VARCHAR(200) NOT NULL,\n",
    "  a_location   VARCHAR(200),\n",
    "  a_lattitude  DOUBLE PRECISION,\n",
    "  a_longitude  DOUBLE PRECISION\n",
    ")\n",
    "DISTSTYLE ALL;\n",
    "\n",
    "INSERT INTO artists (a_artist_id,a_name,a_location,a_lattitude,a_longitude)\n",
    "WITH t1 AS (\n",
    "    SELECT artist_id, artist_name, artist_location, artist_latitude, artist_longitude, \n",
    "    ROW_NUMBER() OVER(PARTITION BY artist_id ORDER BY len(artist_name)) AS row_number\n",
    "    FROM song_data)\n",
    "SELECT t1.artist_id, t1.artist_name, t1.artist_location, t1.artist_latitude, t1.artist_longitude\n",
    "FROM t1\n",
    "WHERE t1.row_number = 1"
   ]
  },
  {
   "cell_type": "code",
   "execution_count": null,
   "metadata": {},
   "outputs": [],
   "source": [
    "%%sql\n",
    "select count(*) from artists"
   ]
  },
  {
   "cell_type": "code",
   "execution_count": null,
   "metadata": {},
   "outputs": [],
   "source": [
    "%%sql \n",
    "DROP TABLE IF EXISTS time;\n",
    "CREATE TABLE time \n",
    "(\n",
    "    t_start_time DATETIME NOT NULL SORTKEY, \n",
    "    t_hour INTEGER NOT NULL, \n",
    "    t_day INTEGER NOT NULL, \n",
    "    t_week INTEGER NOT NULL, \n",
    "    t_month INTEGER NOT NULL, \n",
    "    t_year INTEGER NOT NULL , \n",
    "    t_weekday INTEGER NOT NULL\n",
    ")\n",
    "DISTSTYLE ALL;\n",
    "\n",
    "INSERT INTO time (t_start_time,t_hour,t_day,t_week,t_month ,t_year ,t_weekday)\n",
    "SELECT \n",
    "DATEADD(second, ts, '1970-01-01 00:00:00'), \n",
    "DATEPART(HOUR, DATEADD(SECOND, ts, '1970-01-01 00:00:00')),  \n",
    "DATEPART(DAY, DATEADD(SECOND, ts, '1970-01-01 00:00:00')),  \n",
    "DATEPART(WEEK, DATEADD(SECOND, ts, '1970-01-01 00:00:00')),  \n",
    "DATEPART(MONTH, DATEADD(SECOND, ts, '1970-01-01 00:00:00')),  \n",
    "DATEPART(YEAR, DATEADD(SECOND, ts, '1970-01-01 00:00:00')),\n",
    "DATEPART(WEEKDAY, DATEADD(SECOND, ts, '1970-01-01 00:00:00'))  \n",
    "FROM log_data\n",
    "GROUP BY ts\n",
    "ORDER BY ts"
   ]
  },
  {
   "cell_type": "code",
   "execution_count": null,
   "metadata": {},
   "outputs": [],
   "source": [
    "%%sql\n",
    "select count(*) from time"
   ]
  },
  {
   "cell_type": "code",
   "execution_count": null,
   "metadata": {},
   "outputs": [],
   "source": [
    "%%sql\n",
    "select slice, col, num_values as rows, minvalue, maxvalue\n",
    "from svv_diskusage\n",
    "where name='songplays' and col=0 and rows>0\n",
    "order by slice, col;"
   ]
  },
  {
   "cell_type": "code",
   "execution_count": null,
   "metadata": {},
   "outputs": [],
   "source": [
    "%%sql \n",
    "DROP TABLE IF EXISTS songplays;\n",
    "CREATE TABLE songplays \n",
    "(\n",
    "    sp_songplay_id INTEGER NOT NULL SORTKEY, \n",
    "    sp_start_time DATETIME NOT NULL, \n",
    "    sp_user_id INTEGER NOT NULL, \n",
    "    sp_level VARCHAR(20) NOT NULL, \n",
    "    sp_song_id VARCHAR(20) NOT NULL, \n",
    "    sp_artist_id VARCHAR(20) NOT NULL, \n",
    "    sp_session_id INTEGER NOT NULL, \n",
    "    sp_location VARCHAR(200) NOT NULL, \n",
    "    sp_user_agent VARCHAR(200)\n",
    ")\n",
    "DISTSTYLE EVEN;\n",
    "\n",
    "INSERT INTO songplays (sp_songplay_id,sp_start_time,sp_user_id,sp_level,sp_song_id,sp_artist_id,sp_session_id,sp_location,sp_user_agent)\n",
    "SELECT CAST(CAST(sessionid AS VARCHAR) + CAST(iteminsession AS VARCHAR) AS INTEGER),\n",
    "DATEADD(SECOND, ts, '1970-01-01 00:00:00'), \n",
    "userid,\n",
    "(SELECT TOP 1 u_level FROM users WHERE u_user_id = userid),\n",
    "(SELECT TOP 1 s_song_id FROM songs WHERE s_title = song),\n",
    "(SELECT TOP 1 s_artist_id FROM songs WHERE s_title = song),\n",
    "sessionid,location,useragent\n",
    "FROM log_data WHERE page = 'NextSong' AND song IN (SELECT s_title FROM songs)"
   ]
  },
  {
   "cell_type": "code",
   "execution_count": null,
   "metadata": {},
   "outputs": [],
   "source": [
    "%%sql\n",
    "select count(*) from songplays"
   ]
  },
  {
   "cell_type": "code",
   "execution_count": null,
   "metadata": {},
   "outputs": [],
   "source": [
    "#### CAREFUL!!\n",
    "#-- Uncomment & run to delete the created resources\n",
    "redshift.delete_cluster( ClusterIdentifier=CLUSTER_IDENTIFIER,  SkipFinalClusterSnapshot=True)\n",
    "#### CAREFUL!!"
   ]
  },
  {
   "cell_type": "code",
   "execution_count": null,
   "metadata": {},
   "outputs": [],
   "source": [
    "#### CAREFUL!!\n",
    "#-- Uncomment & run to delete the created resources\n",
    "iam.detach_role_policy(RoleName=ROLE_NAME, PolicyArn=POLICY_ARN)\n",
    "iam.delete_role(RoleName=ROLE_NAME)\n",
    "#### CAREFUL!!"
   ]
  },
  {
   "cell_type": "code",
   "execution_count": null,
   "metadata": {},
   "outputs": [],
   "source": []
  }
 ],
 "metadata": {
  "kernelspec": {
   "display_name": "Python 3",
   "language": "python",
   "name": "python3"
  },
  "language_info": {
   "codemirror_mode": {
    "name": "ipython",
    "version": 3
   },
   "file_extension": ".py",
   "mimetype": "text/x-python",
   "name": "python",
   "nbconvert_exporter": "python",
   "pygments_lexer": "ipython3",
   "version": "3.6.3"
  }
 },
 "nbformat": 4,
 "nbformat_minor": 2
}
